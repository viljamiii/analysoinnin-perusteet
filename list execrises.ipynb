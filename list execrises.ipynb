{
 "cells": [
  {
   "cell_type": "code",
   "execution_count": 10,
   "metadata": {},
   "outputs": [],
   "source": [
    "Furnitures = [\"Pöytä\", \"Sohva\", \"Hylly\"]\n",
    "#print(Furnitures[:2])"
   ]
  },
  {
   "cell_type": "code",
   "execution_count": null,
   "metadata": {},
   "outputs": [
    {
     "name": "stdout",
     "output_type": "stream",
     "text": [
      "Sohva\n"
     ]
    }
   ],
   "source": [
    "# Tarkistetaan, onko \"Sohva\" listassa, ja tulostetaan se, jos löytyy\n",
    "if \"Sohva\" in Furnitures:\n",
    "    print(\"Sohva\")\n"
   ]
  },
  {
   "cell_type": "code",
   "execution_count": 25,
   "metadata": {},
   "outputs": [
    {
     "name": "stdout",
     "output_type": "stream",
     "text": [
      "Thrown dice numbers: [3, 4, 4, 4, 2]\n",
      "Sum of values: 17\n",
      "Highest value: 4\n"
     ]
    }
   ],
   "source": [
    "import random\n",
    "\n",
    "# Create a 5-element list named thrownDiceNumbers\n",
    "thrownDiceNumbers = []\n",
    "\n",
    "# Pick randomly 5 numbers (between 1 and 6 like a dice roll) and assign them to the list\n",
    "for _ in range(5):\n",
    "    thrownDiceNumbers.append(random.randint(1, 6))\n",
    "\n",
    "# Print the whole list\n",
    "print(\"Thrown dice numbers:\", thrownDiceNumbers)\n",
    "\n",
    "# Count the sum of the list values and print the result\n",
    "sum_of_values = sum(thrownDiceNumbers)\n",
    "print(\"Sum of values:\", sum_of_values)\n",
    "\n",
    "# Print the highest value in the list\n",
    "highest_value = max(thrownDiceNumbers)\n",
    "print(\"Highest value:\", highest_value)\n"
   ]
  }
 ],
 "metadata": {
  "kernelspec": {
   "display_name": "Python 3",
   "language": "python",
   "name": "python3"
  },
  "language_info": {
   "codemirror_mode": {
    "name": "ipython",
    "version": 3
   },
   "file_extension": ".py",
   "mimetype": "text/x-python",
   "name": "python",
   "nbconvert_exporter": "python",
   "pygments_lexer": "ipython3",
   "version": "3.13.0"
  }
 },
 "nbformat": 4,
 "nbformat_minor": 2
}
