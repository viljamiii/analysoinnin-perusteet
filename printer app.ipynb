{
 "cells": [
  {
   "cell_type": "code",
   "execution_count": 15,
   "metadata": {},
   "outputs": [
    {
     "name": "stdout",
     "output_type": "stream",
     "text": [
      "Printer app\n",
      "This app is made by Viljami\n",
      "The value of number1 is  5\n",
      "The value of number2 is  10\n",
      "5 * 10 = 50\n",
      "5 + 10 = 15\n",
      "5 - 10 = -5\n",
      "5 / 10 = 0.5\n"
     ]
    }
   ],
   "source": [
    "creator = \"Viljami\"\n",
    "print('''Printer app''')\n",
    "print('''This app is made by ''' + creator)\n",
    "number1 = 5\n",
    "number2 = 10\n",
    "type(number1)\n",
    "type(number2)\n",
    "# comment print(number1)\n",
    "print('''The value of number1 is ''' , number1)\n",
    "print('''The value of number2 is ''' , number2)\n",
    "\n",
    "multiplication = number1 * number2\n",
    "addition = number1 + number2\n",
    "subtraction = number1 - number2\n",
    "division = number1 / number2\n",
    "\n",
    "print(f\"{number1} * {number2} = {multiplication}\")\n",
    "print(f\"{number1} + {number2} = {addition}\")\n",
    "print(f\"{number1} - {number2} = {subtraction}\")\n",
    "print(f\"{number1} / {number2} = {division}\")\n",
    "\n"
   ]
  }
 ],
 "metadata": {
  "kernelspec": {
   "display_name": "Python 3",
   "language": "python",
   "name": "python3"
  },
  "language_info": {
   "codemirror_mode": {
    "name": "ipython",
    "version": 3
   },
   "file_extension": ".py",
   "mimetype": "text/x-python",
   "name": "python",
   "nbconvert_exporter": "python",
   "pygments_lexer": "ipython3",
   "version": "3.13.0"
  }
 },
 "nbformat": 4,
 "nbformat_minor": 2
}
