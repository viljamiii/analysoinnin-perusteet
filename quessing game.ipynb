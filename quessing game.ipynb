{
 "cells": [
  {
   "cell_type": "code",
   "execution_count": 1,
   "metadata": {},
   "outputs": [
    {
     "name": "stdout",
     "output_type": "stream",
     "text": [
      "Quess my name\n"
     ]
    }
   ],
   "source": [
    "print(\"Quess my name\")"
   ]
  },
  {
   "cell_type": "code",
   "execution_count": 19,
   "metadata": {},
   "outputs": [
    {
     "name": "stdout",
     "output_type": "stream",
     "text": [
      "Guess again\n",
      "Guess again\n",
      "Guess again\n",
      "Guess again\n",
      "Correct!\n"
     ]
    }
   ],
   "source": [
    "# Oikea vastaus\n",
    "correct_name = \"juippi\"\n",
    "\n",
    "# Silmukka jatkuu, kunnes käyttäjä arvaa oikein\n",
    "while True:\n",
    "    name = input(\"Guess my name: \")\n",
    "    if name.lower() == correct_name:\n",
    "        print(\"Correct!\")\n",
    "        break  # Lopetetaan silmukka, koska vastaus oli oikein\n",
    "    else:\n",
    "        print(\"Guess again\")\n"
   ]
  }
 ],
 "metadata": {
  "kernelspec": {
   "display_name": "Python 3",
   "language": "python",
   "name": "python3"
  },
  "language_info": {
   "codemirror_mode": {
    "name": "ipython",
    "version": 3
   },
   "file_extension": ".py",
   "mimetype": "text/x-python",
   "name": "python",
   "nbconvert_exporter": "python",
   "pygments_lexer": "ipython3",
   "version": "3.13.0"
  }
 },
 "nbformat": 4,
 "nbformat_minor": 2
}
